{
 "cells": [
  {
   "cell_type": "markdown",
   "id": "99a0ed83",
   "metadata": {},
   "source": [
    "# IBM HR Analytics Employee Attrition Modeling"
   ]
  },
  {
   "cell_type": "markdown",
   "id": "fdfc8ed5",
   "metadata": {},
   "source": [
    "**1. Import the required libraries from Python**"
   ]
  },
  {
   "cell_type": "code",
   "execution_count": 68,
   "id": "f9d83bfc",
   "metadata": {},
   "outputs": [],
   "source": [
    "import pandas as pd\n",
    "import numpy as np\n",
    "import seaborn as sns\n",
    "from sklearn.model_selection import train_test_split\n",
    "from sklearn.linear_model import LogisticRegression\n",
    "from sklearn import metrics\n",
    "import matplotlib.pyplot as plt\n",
    "%matplotlib inline"
   ]
  },
  {
   "cell_type": "markdown",
   "id": "8a0d1777",
   "metadata": {},
   "source": [
    "**2. Load the IBM Attrition Data** "
   ]
  },
  {
   "cell_type": "code",
   "execution_count": 35,
   "id": "2619b641",
   "metadata": {},
   "outputs": [],
   "source": [
    "IBM_attrition_data = pd.read_csv(\"IBM Attrition Data.csv\")"
   ]
  },
  {
   "cell_type": "code",
   "execution_count": 36,
   "id": "b70df37a",
   "metadata": {},
   "outputs": [
    {
     "data": {
      "text/html": [
       "<div>\n",
       "<style scoped>\n",
       "    .dataframe tbody tr th:only-of-type {\n",
       "        vertical-align: middle;\n",
       "    }\n",
       "\n",
       "    .dataframe tbody tr th {\n",
       "        vertical-align: top;\n",
       "    }\n",
       "\n",
       "    .dataframe thead th {\n",
       "        text-align: right;\n",
       "    }\n",
       "</style>\n",
       "<table border=\"1\" class=\"dataframe\">\n",
       "  <thead>\n",
       "    <tr style=\"text-align: right;\">\n",
       "      <th></th>\n",
       "      <th>Age</th>\n",
       "      <th>Attrition</th>\n",
       "      <th>Department</th>\n",
       "      <th>DistanceFromHome</th>\n",
       "      <th>Education</th>\n",
       "      <th>EducationField</th>\n",
       "      <th>EnvironmentSatisfaction</th>\n",
       "      <th>JobSatisfaction</th>\n",
       "      <th>MaritalStatus</th>\n",
       "      <th>MonthlyIncome</th>\n",
       "      <th>NumCompaniesWorked</th>\n",
       "      <th>WorkLifeBalance</th>\n",
       "      <th>YearsAtCompany</th>\n",
       "    </tr>\n",
       "  </thead>\n",
       "  <tbody>\n",
       "    <tr>\n",
       "      <th>0</th>\n",
       "      <td>41</td>\n",
       "      <td>Yes</td>\n",
       "      <td>Sales</td>\n",
       "      <td>1</td>\n",
       "      <td>2</td>\n",
       "      <td>Life Sciences</td>\n",
       "      <td>2</td>\n",
       "      <td>4</td>\n",
       "      <td>Single</td>\n",
       "      <td>5993</td>\n",
       "      <td>8</td>\n",
       "      <td>1</td>\n",
       "      <td>6</td>\n",
       "    </tr>\n",
       "    <tr>\n",
       "      <th>1</th>\n",
       "      <td>49</td>\n",
       "      <td>No</td>\n",
       "      <td>Research &amp; Development</td>\n",
       "      <td>8</td>\n",
       "      <td>1</td>\n",
       "      <td>Life Sciences</td>\n",
       "      <td>3</td>\n",
       "      <td>2</td>\n",
       "      <td>Married</td>\n",
       "      <td>5130</td>\n",
       "      <td>1</td>\n",
       "      <td>3</td>\n",
       "      <td>10</td>\n",
       "    </tr>\n",
       "    <tr>\n",
       "      <th>2</th>\n",
       "      <td>37</td>\n",
       "      <td>Yes</td>\n",
       "      <td>Research &amp; Development</td>\n",
       "      <td>2</td>\n",
       "      <td>2</td>\n",
       "      <td>Other</td>\n",
       "      <td>4</td>\n",
       "      <td>3</td>\n",
       "      <td>Single</td>\n",
       "      <td>2090</td>\n",
       "      <td>6</td>\n",
       "      <td>3</td>\n",
       "      <td>0</td>\n",
       "    </tr>\n",
       "    <tr>\n",
       "      <th>3</th>\n",
       "      <td>33</td>\n",
       "      <td>No</td>\n",
       "      <td>Research &amp; Development</td>\n",
       "      <td>3</td>\n",
       "      <td>4</td>\n",
       "      <td>Life Sciences</td>\n",
       "      <td>4</td>\n",
       "      <td>3</td>\n",
       "      <td>Married</td>\n",
       "      <td>2909</td>\n",
       "      <td>1</td>\n",
       "      <td>3</td>\n",
       "      <td>8</td>\n",
       "    </tr>\n",
       "    <tr>\n",
       "      <th>4</th>\n",
       "      <td>27</td>\n",
       "      <td>No</td>\n",
       "      <td>Research &amp; Development</td>\n",
       "      <td>2</td>\n",
       "      <td>1</td>\n",
       "      <td>Medical</td>\n",
       "      <td>1</td>\n",
       "      <td>2</td>\n",
       "      <td>Married</td>\n",
       "      <td>3468</td>\n",
       "      <td>9</td>\n",
       "      <td>3</td>\n",
       "      <td>2</td>\n",
       "    </tr>\n",
       "  </tbody>\n",
       "</table>\n",
       "</div>"
      ],
      "text/plain": [
       "   Age Attrition              Department  DistanceFromHome  Education  \\\n",
       "0   41       Yes                   Sales                 1          2   \n",
       "1   49        No  Research & Development                 8          1   \n",
       "2   37       Yes  Research & Development                 2          2   \n",
       "3   33        No  Research & Development                 3          4   \n",
       "4   27        No  Research & Development                 2          1   \n",
       "\n",
       "  EducationField  EnvironmentSatisfaction  JobSatisfaction MaritalStatus  \\\n",
       "0  Life Sciences                        2                4        Single   \n",
       "1  Life Sciences                        3                2       Married   \n",
       "2          Other                        4                3        Single   \n",
       "3  Life Sciences                        4                3       Married   \n",
       "4        Medical                        1                2       Married   \n",
       "\n",
       "   MonthlyIncome  NumCompaniesWorked  WorkLifeBalance  YearsAtCompany  \n",
       "0           5993                   8                1               6  \n",
       "1           5130                   1                3              10  \n",
       "2           2090                   6                3               0  \n",
       "3           2909                   1                3               8  \n",
       "4           3468                   9                3               2  "
      ]
     },
     "execution_count": 36,
     "metadata": {},
     "output_type": "execute_result"
    }
   ],
   "source": [
    "IBM_attrition_data.head()"
   ]
  },
  {
   "cell_type": "markdown",
   "id": "92d3839b",
   "metadata": {},
   "source": [
    "**3. Look up the columns of the data and see if there are any null values**"
   ]
  },
  {
   "cell_type": "code",
   "execution_count": 37,
   "id": "01df9bd1",
   "metadata": {},
   "outputs": [
    {
     "data": {
      "text/plain": [
       "Index(['Age', 'Attrition', 'Department', 'DistanceFromHome', 'Education',\n",
       "       'EducationField', 'EnvironmentSatisfaction', 'JobSatisfaction',\n",
       "       'MaritalStatus', 'MonthlyIncome', 'NumCompaniesWorked',\n",
       "       'WorkLifeBalance', 'YearsAtCompany'],\n",
       "      dtype='object')"
      ]
     },
     "execution_count": 37,
     "metadata": {},
     "output_type": "execute_result"
    }
   ],
   "source": [
    "IBM_attrition_data.columns"
   ]
  },
  {
   "cell_type": "code",
   "execution_count": 38,
   "id": "42951597",
   "metadata": {},
   "outputs": [
    {
     "name": "stdout",
     "output_type": "stream",
     "text": [
      "<class 'pandas.core.frame.DataFrame'>\n",
      "RangeIndex: 1470 entries, 0 to 1469\n",
      "Data columns (total 13 columns):\n",
      " #   Column                   Non-Null Count  Dtype \n",
      "---  ------                   --------------  ----- \n",
      " 0   Age                      1470 non-null   int64 \n",
      " 1   Attrition                1470 non-null   object\n",
      " 2   Department               1470 non-null   object\n",
      " 3   DistanceFromHome         1470 non-null   int64 \n",
      " 4   Education                1470 non-null   int64 \n",
      " 5   EducationField           1470 non-null   object\n",
      " 6   EnvironmentSatisfaction  1470 non-null   int64 \n",
      " 7   JobSatisfaction          1470 non-null   int64 \n",
      " 8   MaritalStatus            1470 non-null   object\n",
      " 9   MonthlyIncome            1470 non-null   int64 \n",
      " 10  NumCompaniesWorked       1470 non-null   int64 \n",
      " 11  WorkLifeBalance          1470 non-null   int64 \n",
      " 12  YearsAtCompany           1470 non-null   int64 \n",
      "dtypes: int64(9), object(4)\n",
      "memory usage: 149.4+ KB\n"
     ]
    }
   ],
   "source": [
    "IBM_attrition_data.info()"
   ]
  },
  {
   "cell_type": "markdown",
   "id": "3a6133e9",
   "metadata": {},
   "source": [
    "**4. Find the age distribution of employees in IBM**"
   ]
  },
  {
   "cell_type": "code",
   "execution_count": 39,
   "id": "9440dc2a",
   "metadata": {},
   "outputs": [
    {
     "data": {
      "text/plain": [
       "(array([ 57., 105., 224., 265., 255., 217., 131.,  92.,  77.,  47.]),\n",
       " array([18. , 22.2, 26.4, 30.6, 34.8, 39. , 43.2, 47.4, 51.6, 55.8, 60. ]),\n",
       " <BarContainer object of 10 artists>)"
      ]
     },
     "execution_count": 39,
     "metadata": {},
     "output_type": "execute_result"
    },
    {
     "data": {
      "image/png": "[encoded data removed]",
      "text/plain": [
       "<Figure size 432x288 with 1 Axes>"
      ]
     },
     "metadata": {
      "needs_background": "light"
     },
     "output_type": "display_data"
    }
   ],
   "source": [
    "plt.hist(IBM_attrition_data.Age)"
   ]
  },
  {
   "cell_type": "code",
   "execution_count": 40,
   "id": "fdba3662",
   "metadata": {},
   "outputs": [
    {
     "data": {
      "text/plain": [
       "count    1470.000000\n",
       "mean       36.923810\n",
       "std         9.135373\n",
       "min        18.000000\n",
       "25%        30.000000\n",
       "50%        36.000000\n",
       "75%        43.000000\n",
       "max        60.000000\n",
       "Name: Age, dtype: float64"
      ]
     },
     "execution_count": 40,
     "metadata": {},
     "output_type": "execute_result"
    }
   ],
   "source": [
    "IBM_attrition_data['Age'].describe()"
   ]
  },
  {
   "cell_type": "markdown",
   "id": "99a422f8",
   "metadata": {},
   "source": [
    "**5. Explore attrition by age**"
   ]
  },
  {
   "cell_type": "code",
   "execution_count": 41,
   "id": "a3f184af",
   "metadata": {},
   "outputs": [
    {
     "data": {
      "text/plain": [
       "<matplotlib.collections.PathCollection at 0x1ee73fa0850>"
      ]
     },
     "execution_count": 41,
     "metadata": {},
     "output_type": "execute_result"
    },
    {
     "data": {
      "image/png": "[encoded data removed]",
      "text/plain": [
       "<Figure size 432x288 with 1 Axes>"
      ]
     },
     "metadata": {
      "needs_background": "light"
     },
     "output_type": "display_data"
    }
   ],
   "source": [
    "plt.scatter(IBM_attrition_data.Age,IBM_attrition_data.Attrition)"
   ]
  },
  {
   "cell_type": "markdown",
   "id": "f8e9005c",
   "metadata": {},
   "source": [
    "**6. Explore data for Left employees**"
   ]
  },
  {
   "cell_type": "code",
   "execution_count": 42,
   "id": "71fbe459",
   "metadata": {},
   "outputs": [],
   "source": [
    "IBM_left_employees = IBM_attrition_data[IBM_attrition_data['Attrition']=='Yes']"
   ]
  },
  {
   "cell_type": "code",
   "execution_count": 43,
   "id": "384692b3",
   "metadata": {},
   "outputs": [
    {
     "data": {
      "text/plain": [
       "(array([22., 22., 47., 50., 31., 19., 12., 11., 12., 11.]),\n",
       " array([18., 22., 26., 30., 34., 38., 42., 46., 50., 54., 58.]),\n",
       " <BarContainer object of 10 artists>)"
      ]
     },
     "execution_count": 43,
     "metadata": {},
     "output_type": "execute_result"
    },
    {
     "data": {
      "image/png": "[encoded data removed]",
      "text/plain": [
       "<Figure size 432x288 with 1 Axes>"
      ]
     },
     "metadata": {
      "needs_background": "light"
     },
     "output_type": "display_data"
    }
   ],
   "source": [
    "plt.hist(IBM_left_employees.Age)"
   ]
  },
  {
   "cell_type": "markdown",
   "id": "44a59aa5",
   "metadata": {},
   "source": [
    "**7. Find out the distribution of employees by the education field**"
   ]
  },
  {
   "cell_type": "code",
   "execution_count": 44,
   "id": "b83d93c0",
   "metadata": {},
   "outputs": [
    {
     "data": {
      "text/plain": [
       "(array([606.,   0.,  82.,   0., 464.,   0., 159.,   0., 132.,  27.]),\n",
       " array([0. , 0.5, 1. , 1.5, 2. , 2.5, 3. , 3.5, 4. , 4.5, 5. ]),\n",
       " <BarContainer object of 10 artists>)"
      ]
     },
     "execution_count": 44,
     "metadata": {},
     "output_type": "execute_result"
    },
    {
     "data": {
      "image/png": "[encoded data removed]",
      "text/plain": [
       "<Figure size 432x288 with 1 Axes>"
      ]
     },
     "metadata": {
      "needs_background": "light"
     },
     "output_type": "display_data"
    }
   ],
   "source": [
    "plt.hist(IBM_attrition_data.EducationField)"
   ]
  },
  {
   "cell_type": "code",
   "execution_count": 45,
   "id": "868f473f",
   "metadata": {
    "scrolled": true
   },
   "outputs": [],
   "source": [
    "IBM_attrition_data.Attrition.replace(('Yes','No'),(1,0),inplace=True)"
   ]
  },
  {
   "cell_type": "code",
   "execution_count": 46,
   "id": "314cb00a",
   "metadata": {},
   "outputs": [
    {
     "data": {
      "text/html": [
       "<div>\n",
       "<style scoped>\n",
       "    .dataframe tbody tr th:only-of-type {\n",
       "        vertical-align: middle;\n",
       "    }\n",
       "\n",
       "    .dataframe tbody tr th {\n",
       "        vertical-align: top;\n",
       "    }\n",
       "\n",
       "    .dataframe thead th {\n",
       "        text-align: right;\n",
       "    }\n",
       "</style>\n",
       "<table border=\"1\" class=\"dataframe\">\n",
       "  <thead>\n",
       "    <tr style=\"text-align: right;\">\n",
       "      <th></th>\n",
       "      <th>Age</th>\n",
       "      <th>Attrition</th>\n",
       "      <th>Department</th>\n",
       "      <th>DistanceFromHome</th>\n",
       "      <th>Education</th>\n",
       "      <th>EducationField</th>\n",
       "      <th>EnvironmentSatisfaction</th>\n",
       "      <th>JobSatisfaction</th>\n",
       "      <th>MaritalStatus</th>\n",
       "      <th>MonthlyIncome</th>\n",
       "      <th>NumCompaniesWorked</th>\n",
       "      <th>WorkLifeBalance</th>\n",
       "      <th>YearsAtCompany</th>\n",
       "    </tr>\n",
       "  </thead>\n",
       "  <tbody>\n",
       "    <tr>\n",
       "      <th>0</th>\n",
       "      <td>41</td>\n",
       "      <td>1</td>\n",
       "      <td>Sales</td>\n",
       "      <td>1</td>\n",
       "      <td>2</td>\n",
       "      <td>Life Sciences</td>\n",
       "      <td>2</td>\n",
       "      <td>4</td>\n",
       "      <td>Single</td>\n",
       "      <td>5993</td>\n",
       "      <td>8</td>\n",
       "      <td>1</td>\n",
       "      <td>6</td>\n",
       "    </tr>\n",
       "    <tr>\n",
       "      <th>1</th>\n",
       "      <td>49</td>\n",
       "      <td>0</td>\n",
       "      <td>Research &amp; Development</td>\n",
       "      <td>8</td>\n",
       "      <td>1</td>\n",
       "      <td>Life Sciences</td>\n",
       "      <td>3</td>\n",
       "      <td>2</td>\n",
       "      <td>Married</td>\n",
       "      <td>5130</td>\n",
       "      <td>1</td>\n",
       "      <td>3</td>\n",
       "      <td>10</td>\n",
       "    </tr>\n",
       "    <tr>\n",
       "      <th>2</th>\n",
       "      <td>37</td>\n",
       "      <td>1</td>\n",
       "      <td>Research &amp; Development</td>\n",
       "      <td>2</td>\n",
       "      <td>2</td>\n",
       "      <td>Other</td>\n",
       "      <td>4</td>\n",
       "      <td>3</td>\n",
       "      <td>Single</td>\n",
       "      <td>2090</td>\n",
       "      <td>6</td>\n",
       "      <td>3</td>\n",
       "      <td>0</td>\n",
       "    </tr>\n",
       "    <tr>\n",
       "      <th>3</th>\n",
       "      <td>33</td>\n",
       "      <td>0</td>\n",
       "      <td>Research &amp; Development</td>\n",
       "      <td>3</td>\n",
       "      <td>4</td>\n",
       "      <td>Life Sciences</td>\n",
       "      <td>4</td>\n",
       "      <td>3</td>\n",
       "      <td>Married</td>\n",
       "      <td>2909</td>\n",
       "      <td>1</td>\n",
       "      <td>3</td>\n",
       "      <td>8</td>\n",
       "    </tr>\n",
       "    <tr>\n",
       "      <th>4</th>\n",
       "      <td>27</td>\n",
       "      <td>0</td>\n",
       "      <td>Research &amp; Development</td>\n",
       "      <td>2</td>\n",
       "      <td>1</td>\n",
       "      <td>Medical</td>\n",
       "      <td>1</td>\n",
       "      <td>2</td>\n",
       "      <td>Married</td>\n",
       "      <td>3468</td>\n",
       "      <td>9</td>\n",
       "      <td>3</td>\n",
       "      <td>2</td>\n",
       "    </tr>\n",
       "    <tr>\n",
       "      <th>...</th>\n",
       "      <td>...</td>\n",
       "      <td>...</td>\n",
       "      <td>...</td>\n",
       "      <td>...</td>\n",
       "      <td>...</td>\n",
       "      <td>...</td>\n",
       "      <td>...</td>\n",
       "      <td>...</td>\n",
       "      <td>...</td>\n",
       "      <td>...</td>\n",
       "      <td>...</td>\n",
       "      <td>...</td>\n",
       "      <td>...</td>\n",
       "    </tr>\n",
       "    <tr>\n",
       "      <th>1465</th>\n",
       "      <td>36</td>\n",
       "      <td>0</td>\n",
       "      <td>Research &amp; Development</td>\n",
       "      <td>23</td>\n",
       "      <td>2</td>\n",
       "      <td>Medical</td>\n",
       "      <td>3</td>\n",
       "      <td>4</td>\n",
       "      <td>Married</td>\n",
       "      <td>2571</td>\n",
       "      <td>4</td>\n",
       "      <td>3</td>\n",
       "      <td>5</td>\n",
       "    </tr>\n",
       "    <tr>\n",
       "      <th>1466</th>\n",
       "      <td>39</td>\n",
       "      <td>0</td>\n",
       "      <td>Research &amp; Development</td>\n",
       "      <td>6</td>\n",
       "      <td>1</td>\n",
       "      <td>Medical</td>\n",
       "      <td>4</td>\n",
       "      <td>1</td>\n",
       "      <td>Married</td>\n",
       "      <td>9991</td>\n",
       "      <td>4</td>\n",
       "      <td>3</td>\n",
       "      <td>7</td>\n",
       "    </tr>\n",
       "    <tr>\n",
       "      <th>1467</th>\n",
       "      <td>27</td>\n",
       "      <td>0</td>\n",
       "      <td>Research &amp; Development</td>\n",
       "      <td>4</td>\n",
       "      <td>3</td>\n",
       "      <td>Life Sciences</td>\n",
       "      <td>2</td>\n",
       "      <td>2</td>\n",
       "      <td>Married</td>\n",
       "      <td>6142</td>\n",
       "      <td>1</td>\n",
       "      <td>3</td>\n",
       "      <td>6</td>\n",
       "    </tr>\n",
       "    <tr>\n",
       "      <th>1468</th>\n",
       "      <td>49</td>\n",
       "      <td>0</td>\n",
       "      <td>Sales</td>\n",
       "      <td>2</td>\n",
       "      <td>3</td>\n",
       "      <td>Medical</td>\n",
       "      <td>4</td>\n",
       "      <td>2</td>\n",
       "      <td>Married</td>\n",
       "      <td>5390</td>\n",
       "      <td>2</td>\n",
       "      <td>2</td>\n",
       "      <td>9</td>\n",
       "    </tr>\n",
       "    <tr>\n",
       "      <th>1469</th>\n",
       "      <td>34</td>\n",
       "      <td>0</td>\n",
       "      <td>Research &amp; Development</td>\n",
       "      <td>8</td>\n",
       "      <td>3</td>\n",
       "      <td>Medical</td>\n",
       "      <td>2</td>\n",
       "      <td>3</td>\n",
       "      <td>Married</td>\n",
       "      <td>4404</td>\n",
       "      <td>2</td>\n",
       "      <td>4</td>\n",
       "      <td>4</td>\n",
       "    </tr>\n",
       "  </tbody>\n",
       "</table>\n",
       "<p>1470 rows × 13 columns</p>\n",
       "</div>"
      ],
      "text/plain": [
       "      Age  Attrition              Department  DistanceFromHome  Education  \\\n",
       "0      41          1                   Sales                 1          2   \n",
       "1      49          0  Research & Development                 8          1   \n",
       "2      37          1  Research & Development                 2          2   \n",
       "3      33          0  Research & Development                 3          4   \n",
       "4      27          0  Research & Development                 2          1   \n",
       "...   ...        ...                     ...               ...        ...   \n",
       "1465   36          0  Research & Development                23          2   \n",
       "1466   39          0  Research & Development                 6          1   \n",
       "1467   27          0  Research & Development                 4          3   \n",
       "1468   49          0                   Sales                 2          3   \n",
       "1469   34          0  Research & Development                 8          3   \n",
       "\n",
       "     EducationField  EnvironmentSatisfaction  JobSatisfaction MaritalStatus  \\\n",
       "0     Life Sciences                        2                4        Single   \n",
       "1     Life Sciences                        3                2       Married   \n",
       "2             Other                        4                3        Single   \n",
       "3     Life Sciences                        4                3       Married   \n",
       "4           Medical                        1                2       Married   \n",
       "...             ...                      ...              ...           ...   \n",
       "1465        Medical                        3                4       Married   \n",
       "1466        Medical                        4                1       Married   \n",
       "1467  Life Sciences                        2                2       Married   \n",
       "1468        Medical                        4                2       Married   \n",
       "1469        Medical                        2                3       Married   \n",
       "\n",
       "      MonthlyIncome  NumCompaniesWorked  WorkLifeBalance  YearsAtCompany  \n",
       "0              5993                   8                1               6  \n",
       "1              5130                   1                3              10  \n",
       "2              2090                   6                3               0  \n",
       "3              2909                   1                3               8  \n",
       "4              3468                   9                3               2  \n",
       "...             ...                 ...              ...             ...  \n",
       "1465           2571                   4                3               5  \n",
       "1466           9991                   4                3               7  \n",
       "1467           6142                   1                3               6  \n",
       "1468           5390                   2                2               9  \n",
       "1469           4404                   2                4               4  \n",
       "\n",
       "[1470 rows x 13 columns]"
      ]
     },
     "execution_count": 46,
     "metadata": {},
     "output_type": "execute_result"
    }
   ],
   "source": [
    "IBM_attrition_data"
   ]
  },
  {
   "cell_type": "markdown",
   "id": "c10b2194",
   "metadata": {},
   "source": [
    "**8. Construct bar chart for the number of married,unmarried and divorced employees**"
   ]
  },
  {
   "cell_type": "code",
   "execution_count": 47,
   "id": "30870cbc",
   "metadata": {},
   "outputs": [],
   "source": [
    "IBM_attrition_data.MaritalStatus.replace(('Married','Single','Divorced'),(2,1,0),inplace=True)"
   ]
  },
  {
   "cell_type": "code",
   "execution_count": 48,
   "id": "d3664b7d",
   "metadata": {},
   "outputs": [
    {
     "name": "stderr",
     "output_type": "stream",
     "text": [
      "C:\\Users\\jayva\\anaconda3\\lib\\site-packages\\seaborn\\_decorators.py:36: FutureWarning: Pass the following variable as a keyword arg: x. From version 0.12, the only valid positional argument will be `data`, and passing other arguments without an explicit keyword will result in an error or misinterpretation.\n",
      "  warnings.warn(\n"
     ]
    },
    {
     "data": {
      "text/plain": [
       "<AxesSubplot:xlabel='MaritalStatus', ylabel='count'>"
      ]
     },
     "execution_count": 48,
     "metadata": {},
     "output_type": "execute_result"
    },
    {
     "data": {
      "image/png": "[encoded data removed]",
      "text/plain": [
       "<Figure size 432x288 with 1 Axes>"
      ]
     },
     "metadata": {
      "needs_background": "light"
     },
     "output_type": "display_data"
    }
   ],
   "source": [
    "sns.countplot(IBM_attrition_data.MaritalStatus)"
   ]
  },
  {
   "cell_type": "markdown",
   "id": "c13ace99",
   "metadata": {},
   "source": [
    "**9. Categorize all the data into numeric format**"
   ]
  },
  {
   "cell_type": "code",
   "execution_count": 49,
   "id": "88ea4205",
   "metadata": {},
   "outputs": [
    {
     "data": {
      "text/plain": [
       "array([1, 2, 0], dtype=int64)"
      ]
     },
     "execution_count": 49,
     "metadata": {},
     "output_type": "execute_result"
    }
   ],
   "source": [
    "IBM_attrition_data.MaritalStatus.unique()"
   ]
  },
  {
   "cell_type": "code",
   "execution_count": 50,
   "id": "7427f514",
   "metadata": {},
   "outputs": [
    {
     "data": {
      "text/plain": [
       "array(['Sales', 'Research & Development', 'Human Resources'], dtype=object)"
      ]
     },
     "execution_count": 50,
     "metadata": {},
     "output_type": "execute_result"
    }
   ],
   "source": [
    "IBM_attrition_data.Department.unique()"
   ]
  },
  {
   "cell_type": "code",
   "execution_count": 51,
   "id": "08e3e19c",
   "metadata": {},
   "outputs": [],
   "source": [
    "IBM_attrition_data.Department.replace(('Sales','Research & Development','Human Resources'),(1,2,3),inplace=True)"
   ]
  },
  {
   "cell_type": "code",
   "execution_count": 52,
   "id": "39b157b3",
   "metadata": {},
   "outputs": [
    {
     "data": {
      "text/plain": [
       "array([1, 2, 3], dtype=int64)"
      ]
     },
     "execution_count": 52,
     "metadata": {},
     "output_type": "execute_result"
    }
   ],
   "source": [
    "IBM_attrition_data.Department.unique()"
   ]
  },
  {
   "cell_type": "code",
   "execution_count": 53,
   "id": "5f899db1",
   "metadata": {},
   "outputs": [
    {
     "data": {
      "text/plain": [
       "array(['Life Sciences', 'Other', 'Medical', 'Marketing',\n",
       "       'Technical Degree', 'Human Resources'], dtype=object)"
      ]
     },
     "execution_count": 53,
     "metadata": {},
     "output_type": "execute_result"
    }
   ],
   "source": [
    "IBM_attrition_data.EducationField.unique()"
   ]
  },
  {
   "cell_type": "code",
   "execution_count": 54,
   "id": "2a824721",
   "metadata": {},
   "outputs": [],
   "source": [
    "IBM_attrition_data.EducationField.replace(('Life Sciences', 'Other', 'Medical', 'Marketing','Technical Degree', 'Human Resources'),(1,2,3,4,5,6),inplace=True)"
   ]
  },
  {
   "cell_type": "code",
   "execution_count": 55,
   "id": "bf16b774",
   "metadata": {},
   "outputs": [
    {
     "data": {
      "text/plain": [
       "array([1, 2, 3, 4, 5, 6], dtype=int64)"
      ]
     },
     "execution_count": 55,
     "metadata": {},
     "output_type": "execute_result"
    }
   ],
   "source": [
    "IBM_attrition_data.EducationField.unique()"
   ]
  },
  {
   "cell_type": "code",
   "execution_count": 56,
   "id": "f1105d80",
   "metadata": {},
   "outputs": [
    {
     "data": {
      "text/html": [
       "<div>\n",
       "<style scoped>\n",
       "    .dataframe tbody tr th:only-of-type {\n",
       "        vertical-align: middle;\n",
       "    }\n",
       "\n",
       "    .dataframe tbody tr th {\n",
       "        vertical-align: top;\n",
       "    }\n",
       "\n",
       "    .dataframe thead th {\n",
       "        text-align: right;\n",
       "    }\n",
       "</style>\n",
       "<table border=\"1\" class=\"dataframe\">\n",
       "  <thead>\n",
       "    <tr style=\"text-align: right;\">\n",
       "      <th></th>\n",
       "      <th>Age</th>\n",
       "      <th>Attrition</th>\n",
       "      <th>Department</th>\n",
       "      <th>DistanceFromHome</th>\n",
       "      <th>Education</th>\n",
       "      <th>EducationField</th>\n",
       "      <th>EnvironmentSatisfaction</th>\n",
       "      <th>JobSatisfaction</th>\n",
       "      <th>MaritalStatus</th>\n",
       "      <th>MonthlyIncome</th>\n",
       "      <th>NumCompaniesWorked</th>\n",
       "      <th>WorkLifeBalance</th>\n",
       "      <th>YearsAtCompany</th>\n",
       "    </tr>\n",
       "  </thead>\n",
       "  <tbody>\n",
       "    <tr>\n",
       "      <th>0</th>\n",
       "      <td>41</td>\n",
       "      <td>1</td>\n",
       "      <td>1</td>\n",
       "      <td>1</td>\n",
       "      <td>2</td>\n",
       "      <td>1</td>\n",
       "      <td>2</td>\n",
       "      <td>4</td>\n",
       "      <td>1</td>\n",
       "      <td>5993</td>\n",
       "      <td>8</td>\n",
       "      <td>1</td>\n",
       "      <td>6</td>\n",
       "    </tr>\n",
       "    <tr>\n",
       "      <th>1</th>\n",
       "      <td>49</td>\n",
       "      <td>0</td>\n",
       "      <td>2</td>\n",
       "      <td>8</td>\n",
       "      <td>1</td>\n",
       "      <td>1</td>\n",
       "      <td>3</td>\n",
       "      <td>2</td>\n",
       "      <td>2</td>\n",
       "      <td>5130</td>\n",
       "      <td>1</td>\n",
       "      <td>3</td>\n",
       "      <td>10</td>\n",
       "    </tr>\n",
       "    <tr>\n",
       "      <th>2</th>\n",
       "      <td>37</td>\n",
       "      <td>1</td>\n",
       "      <td>2</td>\n",
       "      <td>2</td>\n",
       "      <td>2</td>\n",
       "      <td>2</td>\n",
       "      <td>4</td>\n",
       "      <td>3</td>\n",
       "      <td>1</td>\n",
       "      <td>2090</td>\n",
       "      <td>6</td>\n",
       "      <td>3</td>\n",
       "      <td>0</td>\n",
       "    </tr>\n",
       "    <tr>\n",
       "      <th>3</th>\n",
       "      <td>33</td>\n",
       "      <td>0</td>\n",
       "      <td>2</td>\n",
       "      <td>3</td>\n",
       "      <td>4</td>\n",
       "      <td>1</td>\n",
       "      <td>4</td>\n",
       "      <td>3</td>\n",
       "      <td>2</td>\n",
       "      <td>2909</td>\n",
       "      <td>1</td>\n",
       "      <td>3</td>\n",
       "      <td>8</td>\n",
       "    </tr>\n",
       "    <tr>\n",
       "      <th>4</th>\n",
       "      <td>27</td>\n",
       "      <td>0</td>\n",
       "      <td>2</td>\n",
       "      <td>2</td>\n",
       "      <td>1</td>\n",
       "      <td>3</td>\n",
       "      <td>1</td>\n",
       "      <td>2</td>\n",
       "      <td>2</td>\n",
       "      <td>3468</td>\n",
       "      <td>9</td>\n",
       "      <td>3</td>\n",
       "      <td>2</td>\n",
       "    </tr>\n",
       "  </tbody>\n",
       "</table>\n",
       "</div>"
      ],
      "text/plain": [
       "   Age  Attrition  Department  DistanceFromHome  Education  EducationField  \\\n",
       "0   41          1           1                 1          2               1   \n",
       "1   49          0           2                 8          1               1   \n",
       "2   37          1           2                 2          2               2   \n",
       "3   33          0           2                 3          4               1   \n",
       "4   27          0           2                 2          1               3   \n",
       "\n",
       "   EnvironmentSatisfaction  JobSatisfaction  MaritalStatus  MonthlyIncome  \\\n",
       "0                        2                4              1           5993   \n",
       "1                        3                2              2           5130   \n",
       "2                        4                3              1           2090   \n",
       "3                        4                3              2           2909   \n",
       "4                        1                2              2           3468   \n",
       "\n",
       "   NumCompaniesWorked  WorkLifeBalance  YearsAtCompany  \n",
       "0                   8                1               6  \n",
       "1                   1                3              10  \n",
       "2                   6                3               0  \n",
       "3                   1                3               8  \n",
       "4                   9                3               2  "
      ]
     },
     "execution_count": 56,
     "metadata": {},
     "output_type": "execute_result"
    }
   ],
   "source": [
    "IBM_attrition_data.head()"
   ]
  },
  {
   "cell_type": "code",
   "execution_count": 57,
   "id": "172cb397",
   "metadata": {},
   "outputs": [
    {
     "data": {
      "text/plain": [
       "Index(['Age', 'Attrition', 'Department', 'DistanceFromHome', 'Education',\n",
       "       'EducationField', 'EnvironmentSatisfaction', 'JobSatisfaction',\n",
       "       'MaritalStatus', 'MonthlyIncome', 'NumCompaniesWorked',\n",
       "       'WorkLifeBalance', 'YearsAtCompany'],\n",
       "      dtype='object')"
      ]
     },
     "execution_count": 57,
     "metadata": {},
     "output_type": "execute_result"
    }
   ],
   "source": [
    "IBM_attrition_data.keys()"
   ]
  },
  {
   "cell_type": "markdown",
   "id": "0895a7ca",
   "metadata": {},
   "source": [
    "**10. Use Logistic Regression model by assigning 'x' with all the independent variables except Attrition and assign 'y' with Attrition data**"
   ]
  },
  {
   "cell_type": "code",
   "execution_count": 58,
   "id": "fbd5fa40",
   "metadata": {},
   "outputs": [],
   "source": [
    "x = IBM_attrition_data.drop('Attrition', axis=1)\n",
    "y = IBM_attrition_data.Attrition"
   ]
  },
  {
   "cell_type": "code",
   "execution_count": 59,
   "id": "49d17b8a",
   "metadata": {},
   "outputs": [],
   "source": [
    "lm = LogisticRegression()"
   ]
  },
  {
   "cell_type": "code",
   "execution_count": 60,
   "id": "303f8b94",
   "metadata": {},
   "outputs": [],
   "source": [
    "x_train,x_test,y_train,y_test = train_test_split(x,y,test_size=0.3,random_state=33)"
   ]
  },
  {
   "cell_type": "code",
   "execution_count": 61,
   "id": "e1c5d8f9",
   "metadata": {},
   "outputs": [
    {
     "name": "stderr",
     "output_type": "stream",
     "text": [
      "C:\\Users\\jayva\\anaconda3\\lib\\site-packages\\sklearn\\linear_model\\_logistic.py:814: ConvergenceWarning: lbfgs failed to converge (status=1):\n",
      "STOP: TOTAL NO. of ITERATIONS REACHED LIMIT.\n",
      "\n",
      "Increase the number of iterations (max_iter) or scale the data as shown in:\n",
      "    https://scikit-learn.org/stable/modules/preprocessing.html\n",
      "Please also refer to the documentation for alternative solver options:\n",
      "    https://scikit-learn.org/stable/modules/linear_model.html#logistic-regression\n",
      "  n_iter_i = _check_optimize_result(\n"
     ]
    }
   ],
   "source": [
    "Model = lm.fit(x_train,y_train)"
   ]
  },
  {
   "cell_type": "code",
   "execution_count": 62,
   "id": "94bd8128",
   "metadata": {},
   "outputs": [
    {
     "name": "stdout",
     "output_type": "stream",
     "text": [
      "[-0.00699334] [[-3.22791065e-02 -6.42072998e-02  1.77376896e-02 -6.31102485e-03\n",
      "   8.57832313e-02 -1.44222837e-01 -1.24169903e-01 -6.47941498e-03\n",
      "  -8.34096873e-05  1.61961763e-01 -4.28076853e-02  9.82261383e-03]]\n"
     ]
    }
   ],
   "source": [
    "print (Model.intercept_,Model.coef_)"
   ]
  },
  {
   "cell_type": "code",
   "execution_count": 63,
   "id": "99bbc539",
   "metadata": {},
   "outputs": [],
   "source": [
    "prediction = Model.predict(x_test)"
   ]
  },
  {
   "cell_type": "markdown",
   "id": "f0f20456",
   "metadata": {},
   "source": [
    "**11. Check the accuracy of the model**"
   ]
  },
  {
   "cell_type": "code",
   "execution_count": 64,
   "id": "98130e20",
   "metadata": {},
   "outputs": [
    {
     "data": {
      "text/plain": [
       "0.8276643990929705"
      ]
     },
     "execution_count": 64,
     "metadata": {},
     "output_type": "execute_result"
    }
   ],
   "source": [
    "lm.score(x_test,y_test)"
   ]
  },
  {
   "cell_type": "code",
   "execution_count": 65,
   "id": "45fcc617",
   "metadata": {},
   "outputs": [
    {
     "data": {
      "text/plain": [
       "array([0, 0, 0, 0, 0, 0, 0, 0, 0, 0, 0, 0, 0, 0, 0, 0, 0, 0, 0, 0, 0, 0,\n",
       "       0, 0, 0, 0, 0, 0, 0, 0, 0, 0, 0, 0, 0, 0, 0, 0, 0, 0, 0, 0, 0, 0,\n",
       "       0, 0, 0, 0, 0, 0, 0, 0, 0, 0, 0, 0, 0, 0, 0, 0, 0, 0, 0, 0, 0, 0,\n",
       "       0, 0, 0, 0, 0, 0, 0, 0, 0, 0, 0, 0, 0, 0, 0, 0, 0, 0, 0, 0, 0, 0,\n",
       "       0, 0, 0, 0, 0, 0, 0, 0, 0, 0, 0, 0, 0, 0, 0, 0, 0, 0, 0, 0, 0, 0,\n",
       "       0, 0, 0, 0, 0, 0, 0, 0, 0, 0, 0, 0, 0, 0, 0, 0, 0, 0, 0, 0, 0, 0,\n",
       "       0, 0, 0, 0, 0, 0, 0, 0, 0, 0, 0, 0, 0, 0, 0, 0, 0, 0, 0, 0, 0, 0,\n",
       "       0, 0, 0, 0, 0, 0, 0, 0, 0, 0, 0, 0, 0, 0, 0, 0, 0, 0, 0, 0, 0, 0,\n",
       "       0, 0, 0, 0, 0, 0, 0, 0, 0, 0, 0, 0, 0, 0, 0, 0, 0, 0, 0, 0, 0, 0,\n",
       "       0, 0, 0, 0, 0, 0, 0, 0, 0, 0, 0, 0, 0, 0, 0, 0, 0, 0, 0, 0, 0, 0,\n",
       "       0, 0, 0, 0, 0, 0, 0, 0, 0, 0, 0, 0, 0, 0, 0, 0, 0, 0, 0, 0, 0, 0,\n",
       "       0, 0, 0, 0, 0, 0, 0, 0, 0, 0, 0, 0, 0, 0, 0, 0, 0, 0, 0, 0, 0, 0,\n",
       "       0, 0, 0, 0, 0, 0, 0, 0, 0, 0, 0, 0, 0, 0, 0, 0, 0, 0, 0, 0, 0, 0,\n",
       "       0, 0, 0, 0, 0, 0, 0, 0, 0, 0, 0, 0, 0, 0, 0, 0, 0, 0, 0, 0, 0, 0,\n",
       "       0, 0, 0, 0, 0, 0, 0, 0, 0, 0, 0, 0, 0, 0, 0, 0, 0, 0, 0, 0, 0, 0,\n",
       "       0, 0, 0, 0, 0, 0, 0, 0, 0, 0, 0, 0, 0, 0, 0, 0, 0, 0, 0, 0, 0, 0,\n",
       "       0, 0, 0, 0, 0, 0, 0, 0, 0, 0, 0, 0, 0, 0, 0, 0, 0, 0, 0, 0, 0, 0,\n",
       "       0, 0, 0, 0, 0, 0, 0, 0, 0, 0, 0, 0, 0, 0, 0, 0, 0, 0, 0, 0, 0, 0,\n",
       "       0, 0, 0, 0, 0, 0, 0, 0, 0, 0, 0, 0, 0, 0, 0, 0, 0, 0, 0, 0, 0, 0,\n",
       "       0, 0, 0, 0, 0, 0, 0, 0, 0, 0, 0, 0, 0, 0, 0, 0, 0, 0, 0, 0, 0, 0,\n",
       "       0], dtype=int64)"
      ]
     },
     "execution_count": 65,
     "metadata": {},
     "output_type": "execute_result"
    }
   ],
   "source": [
    "prediction"
   ]
  },
  {
   "cell_type": "code",
   "execution_count": 69,
   "id": "f3f0797a",
   "metadata": {},
   "outputs": [
    {
     "data": {
      "text/plain": [
       "0.8276643990929705"
      ]
     },
     "execution_count": 69,
     "metadata": {},
     "output_type": "execute_result"
    }
   ],
   "source": [
    "metrics.accuracy_score(y_test,prediction)"
   ]
  },
  {
   "cell_type": "markdown",
   "id": "3228d583",
   "metadata": {},
   "source": [
    "**12. Calculate the probability of the accuracy of each outcome predicting the value of 'y'**"
   ]
  },
  {
   "cell_type": "code",
   "execution_count": 71,
   "id": "982042ca",
   "metadata": {},
   "outputs": [
    {
     "data": {
      "text/plain": [
       "array([[0.84873922, 0.15126078],\n",
       "       [0.74888486, 0.25111514],\n",
       "       [0.82299969, 0.17700031],\n",
       "       [0.70117533, 0.29882467],\n",
       "       [0.81079779, 0.18920221],\n",
       "       [0.53218819, 0.46781181],\n",
       "       [0.94982378, 0.05017622],\n",
       "       [0.9435589 , 0.0564411 ],\n",
       "       [0.7999863 , 0.2000137 ],\n",
       "       [0.8851703 , 0.1148297 ],\n",
       "       [0.85055377, 0.14944623],\n",
       "       [0.87403656, 0.12596344],\n",
       "       [0.82583412, 0.17416588],\n",
       "       [0.95182298, 0.04817702],\n",
       "       [0.85171933, 0.14828067],\n",
       "       [0.91408807, 0.08591193],\n",
       "       [0.91021928, 0.08978072],\n",
       "       [0.88762556, 0.11237444],\n",
       "       [0.97994797, 0.02005203],\n",
       "       [0.86110869, 0.13889131],\n",
       "       [0.89914059, 0.10085941],\n",
       "       [0.88323017, 0.11676983],\n",
       "       [0.96145087, 0.03854913],\n",
       "       [0.93889893, 0.06110107],\n",
       "       [0.91233151, 0.08766849],\n",
       "       [0.90442318, 0.09557682],\n",
       "       [0.88295469, 0.11704531],\n",
       "       [0.80823724, 0.19176276],\n",
       "       [0.81056126, 0.18943874],\n",
       "       [0.62283984, 0.37716016],\n",
       "       [0.85562342, 0.14437658],\n",
       "       [0.84739247, 0.15260753],\n",
       "       [0.89327226, 0.10672774],\n",
       "       [0.71152105, 0.28847895],\n",
       "       [0.85050033, 0.14949967],\n",
       "       [0.6391459 , 0.3608541 ],\n",
       "       [0.8245146 , 0.1754854 ],\n",
       "       [0.91366886, 0.08633114],\n",
       "       [0.83052935, 0.16947065],\n",
       "       [0.85800939, 0.14199061],\n",
       "       [0.95374813, 0.04625187],\n",
       "       [0.85408699, 0.14591301],\n",
       "       [0.70135964, 0.29864036],\n",
       "       [0.76739529, 0.23260471],\n",
       "       [0.94491441, 0.05508559],\n",
       "       [0.92050935, 0.07949065],\n",
       "       [0.83214849, 0.16785151],\n",
       "       [0.8548351 , 0.1451649 ],\n",
       "       [0.90204244, 0.09795756],\n",
       "       [0.85970136, 0.14029864],\n",
       "       [0.87624471, 0.12375529],\n",
       "       [0.88368089, 0.11631911],\n",
       "       [0.86081722, 0.13918278],\n",
       "       [0.84562243, 0.15437757],\n",
       "       [0.70665813, 0.29334187],\n",
       "       [0.8894393 , 0.1105607 ],\n",
       "       [0.94377895, 0.05622105],\n",
       "       [0.81929239, 0.18070761],\n",
       "       [0.81707811, 0.18292189],\n",
       "       [0.8642996 , 0.1357004 ],\n",
       "       [0.82219708, 0.17780292],\n",
       "       [0.96479424, 0.03520576],\n",
       "       [0.68865999, 0.31134001],\n",
       "       [0.93217102, 0.06782898],\n",
       "       [0.86897957, 0.13102043],\n",
       "       [0.89049463, 0.10950537],\n",
       "       [0.92777347, 0.07222653],\n",
       "       [0.864815  , 0.135185  ],\n",
       "       [0.7184755 , 0.2815245 ],\n",
       "       [0.69037368, 0.30962632],\n",
       "       [0.79801697, 0.20198303],\n",
       "       [0.85911237, 0.14088763],\n",
       "       [0.88537042, 0.11462958],\n",
       "       [0.85052819, 0.14947181],\n",
       "       [0.80223336, 0.19776664],\n",
       "       [0.95220596, 0.04779404],\n",
       "       [0.80828095, 0.19171905],\n",
       "       [0.83087611, 0.16912389],\n",
       "       [0.79887885, 0.20112115],\n",
       "       [0.97319141, 0.02680859],\n",
       "       [0.75596658, 0.24403342],\n",
       "       [0.80079927, 0.19920073],\n",
       "       [0.91304161, 0.08695839],\n",
       "       [0.89315543, 0.10684457],\n",
       "       [0.89477881, 0.10522119],\n",
       "       [0.84755216, 0.15244784],\n",
       "       [0.85071694, 0.14928306],\n",
       "       [0.81054738, 0.18945262],\n",
       "       [0.70385396, 0.29614604],\n",
       "       [0.97224299, 0.02775701],\n",
       "       [0.93113317, 0.06886683],\n",
       "       [0.83728292, 0.16271708],\n",
       "       [0.85334806, 0.14665194],\n",
       "       [0.83085187, 0.16914813],\n",
       "       [0.89067406, 0.10932594],\n",
       "       [0.92312151, 0.07687849],\n",
       "       [0.8566639 , 0.1433361 ],\n",
       "       [0.83040184, 0.16959816],\n",
       "       [0.91305316, 0.08694684],\n",
       "       [0.78927384, 0.21072616],\n",
       "       [0.83956428, 0.16043572],\n",
       "       [0.91358122, 0.08641878],\n",
       "       [0.90692465, 0.09307535],\n",
       "       [0.8956566 , 0.1043434 ],\n",
       "       [0.95679597, 0.04320403],\n",
       "       [0.90229657, 0.09770343],\n",
       "       [0.63099785, 0.36900215],\n",
       "       [0.84651586, 0.15348414],\n",
       "       [0.81306637, 0.18693363],\n",
       "       [0.94332064, 0.05667936],\n",
       "       [0.80753854, 0.19246146],\n",
       "       [0.80776674, 0.19223326],\n",
       "       [0.61746534, 0.38253466],\n",
       "       [0.9000596 , 0.0999404 ],\n",
       "       [0.82063291, 0.17936709],\n",
       "       [0.87591787, 0.12408213],\n",
       "       [0.88193185, 0.11806815],\n",
       "       [0.90383898, 0.09616102],\n",
       "       [0.92468842, 0.07531158],\n",
       "       [0.79490253, 0.20509747],\n",
       "       [0.827894  , 0.172106  ],\n",
       "       [0.82966156, 0.17033844],\n",
       "       [0.79400765, 0.20599235],\n",
       "       [0.72803764, 0.27196236],\n",
       "       [0.72874577, 0.27125423],\n",
       "       [0.68727631, 0.31272369],\n",
       "       [0.86410376, 0.13589624],\n",
       "       [0.97646595, 0.02353405],\n",
       "       [0.8240709 , 0.1759291 ],\n",
       "       [0.89900596, 0.10099404],\n",
       "       [0.90663529, 0.09336471],\n",
       "       [0.86938569, 0.13061431],\n",
       "       [0.78641444, 0.21358556],\n",
       "       [0.69128687, 0.30871313],\n",
       "       [0.77007375, 0.22992625],\n",
       "       [0.82484745, 0.17515255],\n",
       "       [0.91180294, 0.08819706],\n",
       "       [0.77431675, 0.22568325],\n",
       "       [0.80735499, 0.19264501],\n",
       "       [0.86620287, 0.13379713],\n",
       "       [0.85202995, 0.14797005],\n",
       "       [0.8350187 , 0.1649813 ],\n",
       "       [0.75361452, 0.24638548],\n",
       "       [0.89692844, 0.10307156],\n",
       "       [0.96095809, 0.03904191],\n",
       "       [0.94766129, 0.05233871],\n",
       "       [0.94544288, 0.05455712],\n",
       "       [0.87656428, 0.12343572],\n",
       "       [0.85899333, 0.14100667],\n",
       "       [0.8367506 , 0.1632494 ],\n",
       "       [0.84778192, 0.15221808],\n",
       "       [0.93449061, 0.06550939],\n",
       "       [0.92975277, 0.07024723],\n",
       "       [0.9114479 , 0.0885521 ],\n",
       "       [0.97265096, 0.02734904],\n",
       "       [0.7953111 , 0.2046889 ],\n",
       "       [0.87354686, 0.12645314],\n",
       "       [0.75455845, 0.24544155],\n",
       "       [0.91724061, 0.08275939],\n",
       "       [0.90808654, 0.09191346],\n",
       "       [0.79984747, 0.20015253],\n",
       "       [0.82951233, 0.17048767],\n",
       "       [0.92307161, 0.07692839],\n",
       "       [0.5261291 , 0.4738709 ],\n",
       "       [0.79787884, 0.20212116],\n",
       "       [0.6384705 , 0.3615295 ],\n",
       "       [0.77623759, 0.22376241],\n",
       "       [0.97214277, 0.02785723],\n",
       "       [0.85036664, 0.14963336],\n",
       "       [0.96970349, 0.03029651],\n",
       "       [0.80757289, 0.19242711],\n",
       "       [0.69397948, 0.30602052],\n",
       "       [0.91620731, 0.08379269],\n",
       "       [0.77433928, 0.22566072],\n",
       "       [0.88223733, 0.11776267],\n",
       "       [0.96441253, 0.03558747],\n",
       "       [0.89530181, 0.10469819],\n",
       "       [0.91752183, 0.08247817],\n",
       "       [0.8835729 , 0.1164271 ],\n",
       "       [0.85638112, 0.14361888],\n",
       "       [0.89191768, 0.10808232],\n",
       "       [0.84945303, 0.15054697],\n",
       "       [0.96107443, 0.03892557],\n",
       "       [0.93219663, 0.06780337],\n",
       "       [0.66245168, 0.33754832],\n",
       "       [0.67252524, 0.32747476],\n",
       "       [0.90283416, 0.09716584],\n",
       "       [0.8978929 , 0.1021071 ],\n",
       "       [0.86096077, 0.13903923],\n",
       "       [0.73279081, 0.26720919],\n",
       "       [0.64219591, 0.35780409],\n",
       "       [0.8046938 , 0.1953062 ],\n",
       "       [0.91591551, 0.08408449],\n",
       "       [0.87899587, 0.12100413],\n",
       "       [0.90690318, 0.09309682],\n",
       "       [0.85345505, 0.14654495],\n",
       "       [0.86865278, 0.13134722],\n",
       "       [0.93825478, 0.06174522],\n",
       "       [0.86482576, 0.13517424],\n",
       "       [0.8960095 , 0.1039905 ],\n",
       "       [0.84954072, 0.15045928],\n",
       "       [0.96020853, 0.03979147],\n",
       "       [0.68667489, 0.31332511],\n",
       "       [0.84522313, 0.15477687],\n",
       "       [0.85852628, 0.14147372],\n",
       "       [0.94304178, 0.05695822],\n",
       "       [0.9494325 , 0.0505675 ],\n",
       "       [0.84732703, 0.15267297],\n",
       "       [0.92289454, 0.07710546],\n",
       "       [0.79225987, 0.20774013],\n",
       "       [0.95762177, 0.04237823],\n",
       "       [0.74977067, 0.25022933],\n",
       "       [0.71234532, 0.28765468],\n",
       "       [0.84707316, 0.15292684],\n",
       "       [0.7254401 , 0.2745599 ],\n",
       "       [0.90409998, 0.09590002],\n",
       "       [0.81859463, 0.18140537],\n",
       "       [0.8870343 , 0.1129657 ],\n",
       "       [0.77002356, 0.22997644],\n",
       "       [0.60032653, 0.39967347],\n",
       "       [0.86330535, 0.13669465],\n",
       "       [0.89383952, 0.10616048],\n",
       "       [0.82040036, 0.17959964],\n",
       "       [0.85179447, 0.14820553],\n",
       "       [0.90511037, 0.09488963],\n",
       "       [0.86505318, 0.13494682],\n",
       "       [0.84818336, 0.15181664],\n",
       "       [0.91459046, 0.08540954],\n",
       "       [0.90749139, 0.09250861],\n",
       "       [0.77794295, 0.22205705],\n",
       "       [0.61092402, 0.38907598],\n",
       "       [0.80903293, 0.19096707],\n",
       "       [0.89910112, 0.10089888],\n",
       "       [0.77357173, 0.22642827],\n",
       "       [0.89273366, 0.10726634],\n",
       "       [0.89650124, 0.10349876],\n",
       "       [0.79461954, 0.20538046],\n",
       "       [0.91009701, 0.08990299],\n",
       "       [0.64547441, 0.35452559],\n",
       "       [0.95439461, 0.04560539],\n",
       "       [0.77289996, 0.22710004],\n",
       "       [0.96560786, 0.03439214],\n",
       "       [0.85534068, 0.14465932],\n",
       "       [0.944308  , 0.055692  ],\n",
       "       [0.79393362, 0.20606638],\n",
       "       [0.92056305, 0.07943695],\n",
       "       [0.77621563, 0.22378437],\n",
       "       [0.7958354 , 0.2041646 ],\n",
       "       [0.79179863, 0.20820137],\n",
       "       [0.940915  , 0.059085  ],\n",
       "       [0.86305122, 0.13694878],\n",
       "       [0.8572635 , 0.1427365 ],\n",
       "       [0.85369635, 0.14630365],\n",
       "       [0.87094961, 0.12905039],\n",
       "       [0.8159036 , 0.1840964 ],\n",
       "       [0.87817479, 0.12182521],\n",
       "       [0.8581142 , 0.1418858 ],\n",
       "       [0.90516333, 0.09483667],\n",
       "       [0.87031924, 0.12968076],\n",
       "       [0.9121394 , 0.0878606 ],\n",
       "       [0.89954147, 0.10045853],\n",
       "       [0.7624383 , 0.2375617 ],\n",
       "       [0.84669595, 0.15330405],\n",
       "       [0.93566252, 0.06433748],\n",
       "       [0.78875129, 0.21124871],\n",
       "       [0.90882645, 0.09117355],\n",
       "       [0.68623236, 0.31376764],\n",
       "       [0.76362132, 0.23637868],\n",
       "       [0.7912523 , 0.2087477 ],\n",
       "       [0.95647012, 0.04352988],\n",
       "       [0.8757638 , 0.1242362 ],\n",
       "       [0.96445252, 0.03554748],\n",
       "       [0.60113836, 0.39886164],\n",
       "       [0.97961177, 0.02038823],\n",
       "       [0.81607868, 0.18392132],\n",
       "       [0.83599318, 0.16400682],\n",
       "       [0.73973157, 0.26026843],\n",
       "       [0.96930532, 0.03069468],\n",
       "       [0.95212761, 0.04787239],\n",
       "       [0.89823906, 0.10176094],\n",
       "       [0.72160392, 0.27839608],\n",
       "       [0.79751574, 0.20248426],\n",
       "       [0.82798637, 0.17201363],\n",
       "       [0.83616215, 0.16383785],\n",
       "       [0.77493511, 0.22506489],\n",
       "       [0.85166383, 0.14833617],\n",
       "       [0.82368238, 0.17631762],\n",
       "       [0.8509579 , 0.1490421 ],\n",
       "       [0.93155358, 0.06844642],\n",
       "       [0.89414526, 0.10585474],\n",
       "       [0.62582436, 0.37417564],\n",
       "       [0.94630281, 0.05369719],\n",
       "       [0.94637304, 0.05362696],\n",
       "       [0.76483456, 0.23516544],\n",
       "       [0.84106399, 0.15893601],\n",
       "       [0.89555254, 0.10444746],\n",
       "       [0.87622372, 0.12377628],\n",
       "       [0.90179636, 0.09820364],\n",
       "       [0.91842964, 0.08157036],\n",
       "       [0.85296715, 0.14703285],\n",
       "       [0.89336628, 0.10663372],\n",
       "       [0.73102366, 0.26897634],\n",
       "       [0.8257052 , 0.1742948 ],\n",
       "       [0.8618367 , 0.1381633 ],\n",
       "       [0.91459215, 0.08540785],\n",
       "       [0.8292765 , 0.1707235 ],\n",
       "       [0.91563055, 0.08436945],\n",
       "       [0.84564144, 0.15435856],\n",
       "       [0.67716037, 0.32283963],\n",
       "       [0.87821778, 0.12178222],\n",
       "       [0.87834644, 0.12165356],\n",
       "       [0.71888347, 0.28111653],\n",
       "       [0.94665223, 0.05334777],\n",
       "       [0.85913659, 0.14086341],\n",
       "       [0.97032263, 0.02967737],\n",
       "       [0.87595563, 0.12404437],\n",
       "       [0.79102624, 0.20897376],\n",
       "       [0.88175581, 0.11824419],\n",
       "       [0.80201147, 0.19798853],\n",
       "       [0.90367532, 0.09632468],\n",
       "       [0.85789403, 0.14210597],\n",
       "       [0.86080602, 0.13919398],\n",
       "       [0.87087768, 0.12912232],\n",
       "       [0.74483012, 0.25516988],\n",
       "       [0.80282798, 0.19717202],\n",
       "       [0.75480338, 0.24519662],\n",
       "       [0.80613827, 0.19386173],\n",
       "       [0.88241266, 0.11758734],\n",
       "       [0.82648844, 0.17351156],\n",
       "       [0.67173797, 0.32826203],\n",
       "       [0.87363034, 0.12636966],\n",
       "       [0.70929964, 0.29070036],\n",
       "       [0.93708048, 0.06291952],\n",
       "       [0.85201688, 0.14798312],\n",
       "       [0.97128645, 0.02871355],\n",
       "       [0.91548434, 0.08451566],\n",
       "       [0.90736239, 0.09263761],\n",
       "       [0.76372611, 0.23627389],\n",
       "       [0.82182691, 0.17817309],\n",
       "       [0.86982559, 0.13017441],\n",
       "       [0.88916177, 0.11083823],\n",
       "       [0.83793281, 0.16206719],\n",
       "       [0.51657842, 0.48342158],\n",
       "       [0.73543971, 0.26456029],\n",
       "       [0.9608832 , 0.0391168 ],\n",
       "       [0.82292413, 0.17707587],\n",
       "       [0.8837428 , 0.1162572 ],\n",
       "       [0.90258328, 0.09741672],\n",
       "       [0.83459732, 0.16540268],\n",
       "       [0.86450968, 0.13549032],\n",
       "       [0.83062519, 0.16937481],\n",
       "       [0.83455071, 0.16544929],\n",
       "       [0.84732563, 0.15267437],\n",
       "       [0.93949571, 0.06050429],\n",
       "       [0.90545246, 0.09454754],\n",
       "       [0.86513394, 0.13486606],\n",
       "       [0.89781153, 0.10218847],\n",
       "       [0.79601048, 0.20398952],\n",
       "       [0.95996497, 0.04003503],\n",
       "       [0.87022453, 0.12977547],\n",
       "       [0.91453339, 0.08546661],\n",
       "       [0.89253004, 0.10746996],\n",
       "       [0.93714385, 0.06285615],\n",
       "       [0.90351063, 0.09648937],\n",
       "       [0.83856491, 0.16143509],\n",
       "       [0.96970536, 0.03029464],\n",
       "       [0.88849417, 0.11150583],\n",
       "       [0.88875636, 0.11124364],\n",
       "       [0.58372147, 0.41627853],\n",
       "       [0.89366864, 0.10633136],\n",
       "       [0.80673817, 0.19326183],\n",
       "       [0.8450482 , 0.1549518 ],\n",
       "       [0.76811899, 0.23188101],\n",
       "       [0.9594014 , 0.0405986 ],\n",
       "       [0.87322409, 0.12677591],\n",
       "       [0.85204977, 0.14795023],\n",
       "       [0.78823412, 0.21176588],\n",
       "       [0.93182841, 0.06817159],\n",
       "       [0.86218702, 0.13781298],\n",
       "       [0.56886282, 0.43113718],\n",
       "       [0.84433422, 0.15566578],\n",
       "       [0.9560026 , 0.0439974 ],\n",
       "       [0.83027258, 0.16972742],\n",
       "       [0.88535189, 0.11464811],\n",
       "       [0.7255407 , 0.2744593 ],\n",
       "       [0.86280754, 0.13719246],\n",
       "       [0.95542961, 0.04457039],\n",
       "       [0.86957131, 0.13042869],\n",
       "       [0.87993284, 0.12006716],\n",
       "       [0.96933182, 0.03066818],\n",
       "       [0.89059453, 0.10940547],\n",
       "       [0.82647877, 0.17352123],\n",
       "       [0.63728919, 0.36271081],\n",
       "       [0.90993967, 0.09006033],\n",
       "       [0.93186874, 0.06813126],\n",
       "       [0.86023925, 0.13976075],\n",
       "       [0.87173708, 0.12826292],\n",
       "       [0.78815569, 0.21184431],\n",
       "       [0.86501901, 0.13498099],\n",
       "       [0.93941965, 0.06058035],\n",
       "       [0.9320468 , 0.0679532 ],\n",
       "       [0.69101757, 0.30898243],\n",
       "       [0.86883754, 0.13116246],\n",
       "       [0.82978859, 0.17021141],\n",
       "       [0.76454322, 0.23545678],\n",
       "       [0.95458423, 0.04541577],\n",
       "       [0.86300427, 0.13699573],\n",
       "       [0.85879885, 0.14120115],\n",
       "       [0.81027709, 0.18972291],\n",
       "       [0.78429142, 0.21570858],\n",
       "       [0.81976213, 0.18023787],\n",
       "       [0.81295967, 0.18704033],\n",
       "       [0.90558426, 0.09441574],\n",
       "       [0.95205866, 0.04794134],\n",
       "       [0.73215707, 0.26784293],\n",
       "       [0.88330304, 0.11669696],\n",
       "       [0.83087949, 0.16912051],\n",
       "       [0.77355653, 0.22644347],\n",
       "       [0.9238581 , 0.0761419 ],\n",
       "       [0.76206473, 0.23793527],\n",
       "       [0.73737495, 0.26262505],\n",
       "       [0.80669012, 0.19330988],\n",
       "       [0.76193473, 0.23806527],\n",
       "       [0.87650585, 0.12349415],\n",
       "       [0.7548189 , 0.2451811 ],\n",
       "       [0.84213511, 0.15786489],\n",
       "       [0.92115934, 0.07884066],\n",
       "       [0.89808119, 0.10191881],\n",
       "       [0.86886285, 0.13113715],\n",
       "       [0.93075685, 0.06924315],\n",
       "       [0.8265009 , 0.1734991 ],\n",
       "       [0.87888013, 0.12111987],\n",
       "       [0.83706436, 0.16293564],\n",
       "       [0.87221895, 0.12778105],\n",
       "       [0.86135299, 0.13864701],\n",
       "       [0.58259571, 0.41740429],\n",
       "       [0.907733  , 0.092267  ],\n",
       "       [0.7288952 , 0.2711048 ],\n",
       "       [0.85438392, 0.14561608],\n",
       "       [0.70079559, 0.29920441],\n",
       "       [0.81651754, 0.18348246]])"
      ]
     },
     "execution_count": 71,
     "metadata": {},
     "output_type": "execute_result"
    }
   ],
   "source": [
    "probs = Model.predict_proba(x_test)\n",
    "probs"
   ]
  },
  {
   "cell_type": "markdown",
   "id": "c7cbedcc",
   "metadata": {},
   "source": [
    "**13. Calculate the values of ROC, AUC and Confusion Matrix**"
   ]
  },
  {
   "cell_type": "code",
   "execution_count": 73,
   "id": "eb0aa88e",
   "metadata": {},
   "outputs": [
    {
     "data": {
      "text/plain": [
       "0.7553713049747657"
      ]
     },
     "execution_count": 73,
     "metadata": {},
     "output_type": "execute_result"
    }
   ],
   "source": [
    "metrics.roc_auc_score(y_test,probs[:,1])"
   ]
  },
  {
   "cell_type": "code",
   "execution_count": 75,
   "id": "51f013a7",
   "metadata": {},
   "outputs": [
    {
     "data": {
      "text/plain": [
       "array([[365,   0],\n",
       "       [ 76,   0]], dtype=int64)"
      ]
     },
     "execution_count": 75,
     "metadata": {},
     "output_type": "execute_result"
    }
   ],
   "source": [
    "metrics.confusion_matrix(y_test,prediction)"
   ]
  },
  {
   "cell_type": "code",
   "execution_count": 77,
   "id": "904e421d",
   "metadata": {},
   "outputs": [
    {
     "name": "stdout",
     "output_type": "stream",
     "text": [
      "              precision    recall  f1-score   support\n",
      "\n",
      "           0       0.83      1.00      0.91       365\n",
      "           1       0.00      0.00      0.00        76\n",
      "\n",
      "    accuracy                           0.83       441\n",
      "   macro avg       0.41      0.50      0.45       441\n",
      "weighted avg       0.69      0.83      0.75       441\n",
      "\n"
     ]
    },
    {
     "name": "stderr",
     "output_type": "stream",
     "text": [
      "C:\\Users\\jayva\\anaconda3\\lib\\site-packages\\sklearn\\metrics\\_classification.py:1318: UndefinedMetricWarning: Precision and F-score are ill-defined and being set to 0.0 in labels with no predicted samples. Use `zero_division` parameter to control this behavior.\n",
      "  _warn_prf(average, modifier, msg_start, len(result))\n",
      "C:\\Users\\jayva\\anaconda3\\lib\\site-packages\\sklearn\\metrics\\_classification.py:1318: UndefinedMetricWarning: Precision and F-score are ill-defined and being set to 0.0 in labels with no predicted samples. Use `zero_division` parameter to control this behavior.\n",
      "  _warn_prf(average, modifier, msg_start, len(result))\n",
      "C:\\Users\\jayva\\anaconda3\\lib\\site-packages\\sklearn\\metrics\\_classification.py:1318: UndefinedMetricWarning: Precision and F-score are ill-defined and being set to 0.0 in labels with no predicted samples. Use `zero_division` parameter to control this behavior.\n",
      "  _warn_prf(average, modifier, msg_start, len(result))\n"
     ]
    }
   ],
   "source": [
    "print (metrics.classification_report(y_test,prediction))"
   ]
  },
  {
   "cell_type": "code",
   "execution_count": 80,
   "id": "e7eaf924",
   "metadata": {},
   "outputs": [
    {
     "name": "stdout",
     "output_type": "stream",
     "text": [
      "      Age  Department  DistanceFromHome  Education  EducationField  \\\n",
      "685    26           1                 1          3               3   \n",
      "1448   41           1                 3          3               1   \n",
      "1401   55           3                26          4               6   \n",
      "1291   37           2                10          4               3   \n",
      "217    29           2                 1          3               5   \n",
      "...   ...         ...               ...        ...             ...   \n",
      "1225   45           2                28          2               5   \n",
      "658    44           2                 9          2               1   \n",
      "578    38           2                 2          4               1   \n",
      "391    40           2                 2          3               3   \n",
      "1044   49           2                 5          4               5   \n",
      "\n",
      "      EnvironmentSatisfaction  JobSatisfaction  MaritalStatus  MonthlyIncome  \\\n",
      "685                         3                1              1           4294   \n",
      "1448                        3                2              0           8938   \n",
      "1401                        3                2              2          19636   \n",
      "1291                        4                1              1           4213   \n",
      "217                         3                3              1           2058   \n",
      "...                       ...              ...            ...            ...   \n",
      "1225                        4                2              1          16704   \n",
      "658                         2                1              2           2559   \n",
      "578                         1                1              1           5980   \n",
      "391                         2                3              2           3448   \n",
      "1044                        1                3              2           6651   \n",
      "\n",
      "      NumCompaniesWorked  WorkLifeBalance  YearsAtCompany  \n",
      "685                    1                3               7  \n",
      "1448                   2                3               5  \n",
      "1401                   4                3              10  \n",
      "1291                   1                1              10  \n",
      "217                    0                2               6  \n",
      "...                  ...              ...             ...  \n",
      "1225                   1                3              21  \n",
      "658                    1                3               8  \n",
      "578                    6                3              15  \n",
      "391                    6                3               1  \n",
      "1044                   2                2               3  \n",
      "\n",
      "[1029 rows x 12 columns]\n"
     ]
    }
   ],
   "source": [
    "print(x_train)"
   ]
  },
  {
   "cell_type": "markdown",
   "id": "bcf0d490",
   "metadata": {},
   "source": [
    "**14. Add random values to JJ according to the parameters mentioned above to check the probability of attrition of an employee**"
   ]
  },
  {
   "cell_type": "code",
   "execution_count": 85,
   "id": "68274aa6",
   "metadata": {},
   "outputs": [
    {
     "name": "stdout",
     "output_type": "stream",
     "text": [
      "[[0.76134481 0.23865519]]\n"
     ]
    },
    {
     "name": "stderr",
     "output_type": "stream",
     "text": [
      "C:\\Users\\jayva\\anaconda3\\lib\\site-packages\\sklearn\\base.py:450: UserWarning: X does not have valid feature names, but LogisticRegression was fitted with feature names\n",
      "  warnings.warn(\n"
     ]
    }
   ],
   "source": [
    "JJ = [[35,2,4,6,3,2,3,2,1,3,2,9]]\n",
    "print (Model.predict_proba(JJ))"
   ]
  }
 ],
 "metadata": {
  "kernelspec": {
   "display_name": "Python 3 (ipykernel)",
   "language": "python",
   "name": "python3"
  },
  "language_info": {
   "codemirror_mode": {
    "name": "ipython",
    "version": 3
   },
   "file_extension": ".py",
   "mimetype": "text/x-python",
   "name": "python",
   "nbconvert_exporter": "python",
   "pygments_lexer": "ipython3",
   "version": "3.9.12"
  }
 },
 "nbformat": 4,
 "nbformat_minor": 5
}
